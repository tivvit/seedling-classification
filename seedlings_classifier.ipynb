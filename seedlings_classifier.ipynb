{
 "cells": [
  {
   "cell_type": "markdown",
   "metadata": {},
   "source": [
    "# Seedling classification"
   ]
  },
  {
   "cell_type": "markdown",
   "metadata": {},
   "source": [
    "Downloaded from https://www.kaggle.com/c/plant-seedlings-classification/data"
   ]
  },
  {
   "cell_type": "code",
   "execution_count": 2,
   "metadata": {
    "scrolled": false
   },
   "outputs": [
    {
     "name": "stdout",
     "output_type": "stream",
     "text": [
      "Archive:  sample_submission.csv.zip\r\n",
      "  inflating: sample_submission.csv   \r\n"
     ]
    }
   ],
   "source": [
    "!unzip train.zip\n",
    "!unzip test.zip\n",
    "!unzip sample_submission.csv.zip"
   ]
  },
  {
   "cell_type": "code",
   "execution_count": 3,
   "metadata": {},
   "outputs": [
    {
     "name": "stdout",
     "output_type": "stream",
     "text": [
      "total 1766584\r\n",
      "drwxr-xr-x  6 1000 1000       4096 Feb 25 22:41 .\r\n",
      "drwxr-xr-x 48 root root       4096 Feb 25 22:37 ..\r\n",
      "drwxrwxr-x  3 1000 1000       4096 Feb 25 22:37 .idea\r\n",
      "drwxr-xr-x  2 root root       4096 Feb 25 22:38 .ipynb_checkpoints\r\n",
      "-rw-r--r--  1 1000 1000        129 Feb 25 22:37 docker-compose.yaml\r\n",
      "-rw-rw-r--  1 root root      19863 Nov 21 19:37 sample_submission.csv\r\n",
      "-rw-rw-r--  1 1000 1000       5251 Feb 25 22:08 sample_submission.csv.zip\r\n",
      "-rw-r--r--  1 root root     191378 Feb 25 22:39 seedlings_classifier.ipynb\r\n",
      "drwxrwxr-x  2 root root      32768 Nov 21 19:27 test\r\n",
      "-rw-rw-r--  1 1000 1000   90141460 Feb 25 22:09 test.zip\r\n",
      "drwxrwxr-x 14 root root       4096 Nov 21 19:11 train\r\n",
      "-rw-rw-r--  1 1000 1000 1718530069 Feb 25 22:18 train.zip\r\n"
     ]
    }
   ],
   "source": [
    "!ls -la"
   ]
  },
  {
   "cell_type": "code",
   "execution_count": 5,
   "metadata": {},
   "outputs": [
    {
     "name": "stdout",
     "output_type": "stream",
     "text": [
      "file,species\r\n",
      "0021e90e4.png,Sugar beet\r\n",
      "003d61042.png,Sugar beet\r\n",
      "007b3da8b.png,Sugar beet\r\n",
      "0086a6340.png,Sugar beet\r\n",
      "00c47e980.png,Sugar beet\r\n",
      "00d090cde.png,Sugar beet\r\n",
      "00ef713a8.png,Sugar beet\r\n",
      "01291174f.png,Sugar beet\r\n",
      "026716f9b.png,Sugar beet\r\n"
     ]
    }
   ],
   "source": [
    "!head sample_submission.csv"
   ]
  },
  {
   "cell_type": "code",
   "execution_count": null,
   "metadata": {
    "collapsed": true
   },
   "outputs": [],
   "source": []
  }
 ],
 "metadata": {
  "kernelspec": {
   "display_name": "Python 2",
   "language": "python",
   "name": "python2"
  },
  "language_info": {
   "codemirror_mode": {
    "name": "ipython",
    "version": 2
   },
   "file_extension": ".py",
   "mimetype": "text/x-python",
   "name": "python",
   "nbconvert_exporter": "python",
   "pygments_lexer": "ipython2",
   "version": "2.7.12"
  }
 },
 "nbformat": 4,
 "nbformat_minor": 2
}
